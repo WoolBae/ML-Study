{
 "cells": [
  {
   "cell_type": "markdown",
   "metadata": {},
   "source": [
    "# 차원의 저주"
   ]
  },
  {
   "cell_type": "markdown",
   "metadata": {},
   "source": [
    "데이터의 차원이 증가하게 되면 그것을 포현하는 데이터의 양이 증가하게 된다.\n",
    "- (2차원 * 6개 데이터) = 12\n",
    "- (10차원 * 6개 데이터) = 60"
   ]
  },
  {
   "cell_type": "markdown",
   "metadata": {},
   "source": [
    "이러한 상황에서의 단점은 계산비용이 기하급수적으로 증가하게 된다. 또한 데이터의 부피가 늘어나 정보의 밀도가 감소하여 데이터를 이용한 학습모델의 성능도 저하된다Overfitting)."
   ]
  },
  {
   "cell_type": "markdown",
   "metadata": {},
   "source": [
    "# 차원축소"
   ]
  },
  {
   "cell_type": "markdown",
   "metadata": {},
   "source": [
    "이러한 차원의 저주를 해소하기 위해 필요한 것이 차원축소이다. "
   ]
  },
  {
   "cell_type": "markdown",
   "metadata": {},
   "source": [
    "차원축소를 통해 차원의 저주 탈피 시각화의 용이성이라는 이점을 얻을 수 있다. 시각화의 용이성은 고차원의 그래프는 사람의 눈으로 인식할 수 없기 차원을 축소해 그래프를 생성한다면 사람이 인식할수 있는 2 or 3 차원의 그래프를 생성할 수 있다."
   ]
  },
  {
   "cell_type": "markdown",
   "metadata": {},
   "source": [
    "차원축소의 방법으로는 Feature Selection과 Feature Extraction이 있다.\n",
    "\n",
    "Feature Selection은 말그래도 몇개의 Feature를 선택하고 나머지는 버리는 것이다. Featrue Extraction은 본래의 고차원 Feature의 조합을 이용해 저차원의 Feature를 생성하는 것이다(Like PCA)\n",
    ". "
   ]
  },
  {
   "cell_type": "markdown",
   "metadata": {},
   "source": [
    "Feature Selection에서는 변수간에 중첩이 있는지, 어떤 변수가 중요한 변수인지, 어떤변수가 타겟에 영향을 크게 주는 변수인지를 분석한다.\n",
    "\n",
    "중첩되는 변수를 찾을때는 주로 상관관계(Correlation)이다. 상관계수가 높거나 VIF가 높은 충첩되는 변수들 중 하나만 선택한다."
   ]
  },
  {
   "cell_type": "markdown",
   "metadata": {},
   "source": [
    "종속변수에 영형을 크게 주는 중요한 변수는 랜덤포레스트(RandomForest) 또는 XGBoost등을 이용해 변수 중요도를 찾아 몇가지 변수만 선택한다."
   ]
  },
  {
   "cell_type": "code",
   "execution_count": null,
   "metadata": {
    "collapsed": true
   },
   "outputs": [],
   "source": []
  }
 ],
 "metadata": {
  "kernelspec": {
   "display_name": "Python 3",
   "language": "python",
   "name": "python3"
  },
  "language_info": {
   "codemirror_mode": {
    "name": "ipython",
    "version": 3
   },
   "file_extension": ".py",
   "mimetype": "text/x-python",
   "name": "python",
   "nbconvert_exporter": "python",
   "pygments_lexer": "ipython3",
   "version": "3.6.3"
  }
 },
 "nbformat": 4,
 "nbformat_minor": 2
}
